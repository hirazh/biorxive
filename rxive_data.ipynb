{
 "cells": [
  {
   "attachments": {},
   "cell_type": "markdown",
   "metadata": {},
   "source": [
    "## Preprint published article detail for Biorxive"
   ]
  },
  {
   "cell_type": "code",
   "execution_count": 10,
   "metadata": {},
   "outputs": [],
   "source": [
    "import numpy as np\n",
    "import pandas as pd\n",
    "import requests\n",
    "import json"
   ]
  },
  {
   "cell_type": "code",
   "execution_count": 96,
   "metadata": {},
   "outputs": [],
   "source": [
    "start_date = '2023-01-01'\n",
    "end_date = '2023-01-31'\n",
    "cursor = 0\n",
    "response = requests.get('https://api.biorxiv.org/pubs/biorxiv/' + start_date +'/' + end_date + '/' + str(cursor))\n",
    "\n",
    "if response.status_code == 200:\n",
    "    results = response.json()\n",
    "else:\n",
    "    print(\"Request failed: \", response.status_code)"
   ]
  },
  {
   "cell_type": "code",
   "execution_count": 97,
   "metadata": {},
   "outputs": [
    {
     "name": "stdout",
     "output_type": "stream",
     "text": [
      "[{'status': 'ok', 'interval': '2023-01-01:2023-01-31', 'cursor': 0, 'count': 100, 'total': 1260}]\n",
      "https://api.biorxiv.org/pubs/biorxiv/2023-01-01/2023-01-31/0\n"
     ]
    }
   ],
   "source": [
    "print(results[\"messages\"])\n",
    "# print(results[\"collection\"][0])\n",
    "print(response.url)\n",
    "# print(results)"
   ]
  },
  {
   "cell_type": "code",
   "execution_count": 98,
   "metadata": {},
   "outputs": [],
   "source": [
    "# This array hold the data received from API this way its easy to add data as it retrive data from API as 100 chunks\n",
    "# collection_data.append here will add the first 100 results to the collection_data list\n",
    "collection_data = []\n",
    "collection_data.append(results)\n",
    "# collection_data"
   ]
  },
  {
   "attachments": {},
   "cell_type": "markdown",
   "metadata": {},
   "source": [
    "Single API call retrive only 100 data points. Cursor can specify from which point the next 100 data point start\n",
    "Therefore get the total data points and divided from 100 to get how many iterations the API call should run"
   ]
  },
  {
   "cell_type": "code",
   "execution_count": 99,
   "metadata": {},
   "outputs": [
    {
     "data": {
      "text/plain": [
       "13"
      ]
     },
     "execution_count": 99,
     "metadata": {},
     "output_type": "execute_result"
    }
   ],
   "source": [
    "# To get the how many times the API should run = Total data / 100 \n",
    "count = results['messages'][0]['total'] / 100\n",
    "count = round(count)\n",
    "count"
   ]
  },
  {
   "cell_type": "code",
   "execution_count": 100,
   "metadata": {},
   "outputs": [
    {
     "name": "stdout",
     "output_type": "stream",
     "text": [
      "100 started\n",
      "Cursor 100 added to the collection_data\n",
      "200 started\n",
      "Cursor 200 added to the collection_data\n",
      "300 started\n",
      "Cursor 300 added to the collection_data\n",
      "400 started\n",
      "Cursor 400 added to the collection_data\n",
      "500 started\n",
      "Cursor 500 added to the collection_data\n",
      "600 started\n",
      "Cursor 600 added to the collection_data\n",
      "700 started\n",
      "Cursor 700 added to the collection_data\n",
      "800 started\n",
      "Cursor 800 added to the collection_data\n",
      "900 started\n",
      "Cursor 900 added to the collection_data\n",
      "1000 started\n",
      "Cursor 1000 added to the collection_data\n",
      "1100 started\n",
      "Cursor 1100 added to the collection_data\n",
      "1200 started\n",
      "Cursor 1200 added to the collection_data\n",
      "1300 started\n",
      "Cursor 1300 added to the collection_data\n"
     ]
    }
   ],
   "source": [
    "# Below code will add the data to collection_data from 100th cursor since the first 100 already added to the collection_data\n",
    "temp_cursor = 0\n",
    "\n",
    "for i in range(count):\n",
    "    temp_cursor = temp_cursor + 100\n",
    "    print(f\"{temp_cursor} started\")\n",
    "    response = requests.get('https://api.biorxiv.org/pubs/biorxiv/' + start_date +'/' + end_date + '/' + str(temp_cursor))\n",
    "\n",
    "    if response.status_code == 200:\n",
    "        results = response.json()\n",
    "        collection_data.append(results)\n",
    "        print(f\"Cursor {temp_cursor} added to the collection_data\")\n",
    "    else:\n",
    "        print(\"Request failed: \", response.status_code)\n"
   ]
  },
  {
   "cell_type": "code",
   "execution_count": 101,
   "metadata": {},
   "outputs": [],
   "source": [
    "collection_data_list = []\n",
    "\n",
    "for item in collection_data:\n",
    "    for sub_item in item['collection']:\n",
    "        collection_data_list.append(sub_item)"
   ]
  },
  {
   "cell_type": "code",
   "execution_count": 102,
   "metadata": {},
   "outputs": [
    {
     "data": {
      "text/plain": [
       "1260"
      ]
     },
     "execution_count": 102,
     "metadata": {},
     "output_type": "execute_result"
    }
   ],
   "source": [
    "len(collection_data_list)"
   ]
  },
  {
   "cell_type": "code",
   "execution_count": 103,
   "metadata": {},
   "outputs": [],
   "source": [
    "# df23 = pd.DataFrame(collection_data_list)\n",
    "# df23.to_csv(r'C:\\Users\\Hiras\\Analysis_Hiras\\biorxive\\output\\brxive_df23.csv')"
   ]
  },
  {
   "attachments": {},
   "cell_type": "markdown",
   "metadata": {},
   "source": [
    "From 2020-01-01 : 2020-12-31 total number of results 22074\n",
    "\n",
    "From 2021-01-01 : 2021-12-31 total number of results 25114\n",
    "\n",
    "From 2022-01-01 : 2022-12-31 total number of results 19742\n",
    "\n",
    "From 2023-01-01 : 2023-01-31 total number of results 1260"
   ]
  }
 ],
 "metadata": {
  "kernelspec": {
   "display_name": "barxive",
   "language": "python",
   "name": "python3"
  },
  "language_info": {
   "codemirror_mode": {
    "name": "ipython",
    "version": 3
   },
   "file_extension": ".py",
   "mimetype": "text/x-python",
   "name": "python",
   "nbconvert_exporter": "python",
   "pygments_lexer": "ipython3",
   "version": "3.10.9"
  },
  "orig_nbformat": 4,
  "vscode": {
   "interpreter": {
    "hash": "5cf71c780668b40293c0f4c8ead8a5cc23f95fb4bff1a4d4e1ed634554c4ea0d"
   }
  }
 },
 "nbformat": 4,
 "nbformat_minor": 2
}
